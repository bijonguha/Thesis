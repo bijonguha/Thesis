{
 "cells": [
  {
   "cell_type": "code",
   "execution_count": 1,
   "metadata": {},
   "outputs": [],
   "source": [
    "import cv2\n",
    "import os\n",
    "import numpy as np\n",
    "from matplotlib import pyplot as plt\n",
    "\n",
    "path = \"C:/Users/annik/OneDrive/Desktop/Thesis/Beispieldrucke/\"\n",
    "prints_path = path + \"uncut/\"\n",
    "save_path = path + \"prints/\""
   ]
  },
  {
   "cell_type": "code",
   "execution_count": 3,
   "metadata": {},
   "outputs": [],
   "source": [
    "def cut_image(mask, image_to_cut, im, boxes):\n",
    "    for i, box in enumerate(boxes):\n",
    "        save_as = save_path + \"crop_\" +\"{0}_\".format(i) + im\n",
    "        crop = image_to_cut[box[0]:box[1], box[2]:box[3]]\n",
    "        crop = cv2.cvtColor(crop, cv2.COLOR_BGR2RGB)\n",
    "        cv2.imwrite(save_as, crop)"
   ]
  },
  {
   "cell_type": "code",
   "execution_count": 4,
   "metadata": {},
   "outputs": [],
   "source": [
    "def start_cut(maskfilename, imgfilename):\n",
    "    mask = cv2.imread(path + \"cut/\" + maskfilename, cv2.IMREAD_GRAYSCALE)\n",
    "    contours,_ = cv2.findContours(mask.copy(), 1, 1)\n",
    "    #mask2 = cv2.imread(path + \"mask2.tif\", cv2.IMREAD_GRAYSCALE)\n",
    "    #contours2,_ = cv2.findContours(mask2.copy(), 1, 1)\n",
    "    boxes = []\n",
    "\n",
    "    def get_boxes(this_contours):\n",
    "        for i, cnt in enumerate(this_contours):\n",
    "            x,y,w,h = cv2.boundingRect(cnt)\n",
    "            box = np.array([y,y+h,x,x+w])\n",
    "            boxes.append(box)\n",
    "\n",
    "    get_boxes(contours)\n",
    "    #get_boxes(contours2)\n",
    "    image_to_cut = cv2.imread(prints_path+imgfilename)\n",
    "    image_to_cut = cv2.cvtColor(image_to_cut, cv2.COLOR_BGR2RGB)\n",
    "    cut_image(mask, image_to_cut, imgfilename, boxes)\n"
   ]
  },
  {
   "cell_type": "code",
   "execution_count": 5,
   "metadata": {},
   "outputs": [
    {
     "name": "stdout",
     "output_type": "stream",
     "text": [
      "0\n",
      "1\n",
      "2\n",
      "3\n",
      "4\n",
      "5\n",
      "6\n",
      "7\n",
      "8\n",
      "9\n",
      "10\n",
      "11\n",
      "12\n",
      "13\n",
      "14\n",
      "15\n",
      "16\n",
      "17\n"
     ]
    }
   ],
   "source": [
    "h = []\n",
    "for im in os.listdir(prints_path):\n",
    "    if im.endswith('.tif'):\n",
    "        im_arr = im.split(\"_\")\n",
    "        h.append(im_arr)\n",
    "\n",
    "for i, _ in enumerate(h):\n",
    "    print(i)\n",
    "    if i % 2 == 0:\n",
    "        for x in range(0,2):\n",
    "            i = i + x\n",
    "            if h[i][1] == 'mask':\n",
    "                maskfilename = \"_\".join(h[i])\n",
    "            else:\n",
    "                imgfilename = \"_\".join(h[i])\n",
    "        start_cut(maskfilename, imgfilename)\n",
    "\n",
    "                \n"
   ]
  },
  {
   "cell_type": "code",
   "execution_count": null,
   "metadata": {},
   "outputs": [],
   "source": []
  },
  {
   "cell_type": "code",
   "execution_count": null,
   "metadata": {},
   "outputs": [],
   "source": []
  }
 ],
 "metadata": {
  "kernelspec": {
   "display_name": "Python 3",
   "language": "python",
   "name": "python3"
  },
  "language_info": {
   "codemirror_mode": {
    "name": "ipython",
    "version": 3
   },
   "file_extension": ".py",
   "mimetype": "text/x-python",
   "name": "python",
   "nbconvert_exporter": "python",
   "pygments_lexer": "ipython3",
   "version": "3.8.5"
  }
 },
 "nbformat": 4,
 "nbformat_minor": 4
}
